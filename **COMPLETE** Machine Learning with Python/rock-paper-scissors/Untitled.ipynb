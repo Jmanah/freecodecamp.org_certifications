{
 "cells": [
  {
   "cell_type": "raw",
   "id": "75c2e7ef-e4b4-4cf6-8213-3b3c8f888ae9",
   "metadata": {},
   "source": [
    "import sys\n",
    "import numpy as np\n",
    "import matplotlib"
   ]
  },
  {
   "cell_type": "code",
   "execution_count": null,
   "id": "dd52297c-51fd-427c-8ea4-087036fe865b",
   "metadata": {},
   "outputs": [],
   "source": [
    "print(\"Python:\", sys.version)\n",
    "print(\"Numpy:\", np.__version__)\n",
    "print(\"Matplotlib:\", matplotlib.__version__ \\)"
   ]
  },
  {
   "cell_type": "code",
   "execution_count": null,
   "id": "a5320048-c9e8-4732-b0da-65e2e6b76e55",
   "metadata": {},
   "outputs": [],
   "source": []
  },
  {
   "cell_type": "code",
   "execution_count": null,
   "id": "490b4cdf-f109-4cef-b942-8b0598fedf0c",
   "metadata": {},
   "outputs": [],
   "source": []
  }
 ],
 "metadata": {
  "kernelspec": {
   "display_name": "Python [conda env:miniforge3-tensorflow] *",
   "language": "python",
   "name": "conda-env-miniforge3-tensorflow-py"
  },
  "language_info": {
   "name": ""
  }
 },
 "nbformat": 4,
 "nbformat_minor": 5
}
