{
 "cells": [
  {
   "cell_type": "code",
   "execution_count": null,
   "metadata": {},
   "outputs": [],
   "source": []
  },
  {
   "cell_type": "markdown",
   "metadata": {
    "id": "uGd4NYQX1Rf_"
   },
   "source": [
    "*Note: You are currently reading this using Google Colaboratory which is a cloud-hosted version of Jupyter Notebook. This is a document containing both text cells for documentation and runnable code cells. If you are unfamiliar with Jupyter Notebook, watch this 3-minute introduction before starting this challenge: https://www.youtube.com/watch?v=inN8seMm7UI*\n",
    "\n",
    "---\n",
    "\n",
    "In this challenge, you will create a book recommendation algorithm using **K-Nearest Neighbors**.\n",
    "\n",
    "You will use the [Book-Crossings dataset](http://www2.informatik.uni-freiburg.de/~cziegler/BX/). This dataset contains 1.1 million ratings (scale of 1-10) of 270,000 books by 90,000 users. \n",
    "\n",
    "After importing and cleaning the data, use `NearestNeighbors` from `sklearn.neighbors` to develop a model that shows books that are similar to a given book. The Nearest Neighbors algorithm measures distance to determine the “closeness” of instances.\n",
    "\n",
    "Create a function named `get_recommends` that takes a book title (from the dataset) as an argument and returns a list of 5 similar books with their distances from the book argument.\n",
    "\n",
    "This code:\n",
    "\n",
    "`get_recommends(\"The Queen of the Damned (Vampire Chronicles (Paperback))\")`\n",
    "\n",
    "should return:\n",
    "\n",
    "```\n",
    "[\n",
    "  'The Queen of the Damned (Vampire Chronicles (Paperback))',\n",
    "  [\n",
    "    ['Catch 22', 0.793983519077301], \n",
    "    ['The Witching Hour (Lives of the Mayfair Witches)', 0.7448656558990479], \n",
    "    ['Interview with the Vampire', 0.7345068454742432],\n",
    "    ['The Tale of the Body Thief (Vampire Chronicles (Paperback))', 0.5376338362693787],\n",
    "    ['The Vampire Lestat (Vampire Chronicles, Book II)', 0.5178412199020386]\n",
    "  ]\n",
    "]\n",
    "```\n",
    "\n",
    "Notice that the data returned from `get_recommends()` is a list. The first element in the list is the book title passed in to the function. The second element in the list is a list of five more lists. Each of the five lists contains a recommended book and the distance from the recommended book to the book passed in to the function.\n",
    "\n",
    "If you graph the dataset (optional), you will notice that most books are not rated frequently. To ensure statistical significance, remove from the dataset users with less than 200 ratings and books with less than 100 ratings.\n",
    "\n",
    "The first three cells import libraries you may need and the data to use. The final cell is for testing. Write all your code in between those cells."
   ]
  },
  {
   "cell_type": "markdown",
   "metadata": {},
   "source": [
    "Do NOT remove the 0 values.\n",
    "Remove users that appear <200 times in the list and books that have <100 users from df_ratings (using the isbn column for the latter). This should be done at the same time (i.e. you can’t just remove users first then books from the resulting dataset).\n",
    "Now merge df_ratings with df_books.\n",
    "Drop the title duplicates with the default keep='first' parameter setting (so no need to get the max or the mean rating for the duplicated bunch) when using the drop_duplicates function.\n",
    "For your final answer, the recommendations sublist should be in backwards order for some reason to pass.\n",
    "\n",
    "https://forum.freecodecamp.org/t/book-recommendation-knn-system/412976/6"
   ]
  },
  {
   "cell_type": "code",
   "execution_count": 1,
   "metadata": {
    "id": "Y1onB6kUvo4Z",
    "tags": []
   },
   "outputs": [],
   "source": [
    "# import libraries (you may add additional imports but you may not have to)\n",
    "import numpy as np\n",
    "import pandas as pd\n",
    "from scipy.sparse import csr_matrix\n",
    "from sklearn.neighbors import NearestNeighbors\n",
    "import matplotlib.pyplot as plt\n",
    "from collections import Counter"
   ]
  },
  {
   "cell_type": "code",
   "execution_count": 2,
   "metadata": {
    "id": "iAQGqqO_vo4d",
    "tags": []
   },
   "outputs": [],
   "source": [
    "# get data files\n",
    "# !wget https://cdn.freecodecamp.org/project-data/books/book-crossings.zip\n",
    "# !unzip book-crossings.zip\n",
    "\n",
    "books_filename = 'BX-Books.csv'\n",
    "ratings_filename = 'BX-Book-Ratings.csv'"
   ]
  },
  {
   "cell_type": "code",
   "execution_count": 3,
   "metadata": {
    "id": "NClILWOiEd6Q",
    "tags": []
   },
   "outputs": [],
   "source": [
    "# import csv data into dataframes\n",
    "df_books = pd.read_csv(\n",
    "    books_filename,\n",
    "    encoding = \"ISO-8859-1\",\n",
    "    sep=\";\",\n",
    "    header=0,\n",
    "    names=['isbn', 'title'],\n",
    "    usecols=['isbn', 'title'],\n",
    "    dtype={'isbn': 'str', 'title': 'str'})\n",
    "\n",
    "df_ratings = pd.read_csv(\n",
    "    ratings_filename,\n",
    "    encoding = \"ISO-8859-1\",\n",
    "    sep=\";\",\n",
    "    header=0,\n",
    "    names=['user', 'isbn', 'rating'],\n",
    "    usecols=['user', 'isbn', 'rating'],\n",
    "    dtype={'user': 'int32', 'isbn': 'str', 'rating': 'float32'})"
   ]
  },
  {
   "cell_type": "code",
   "execution_count": 4,
   "metadata": {},
   "outputs": [],
   "source": [
    "# Removes all duplicates from the list of book titles and ISBNs\n",
    "df_books = df_books.drop_duplicates(keep='first')\n",
    "\n",
    "i_min = 100 # minimum number of times a book must have been rated to be included\n",
    "u_min = 200 # minimum number of times a user must have rated a book to be included\n",
    "\n",
    "# Removes all entries from the dataset based on the above perameters\n",
    "df_ratings = df_ratings[\n",
    "    df_ratings['isbn'].isin(\n",
    "    {k: v for (k, v) in Counter(df_ratings.isbn).items() if v >= i_min}.keys()) &\n",
    "    df_ratings['user'].isin(\n",
    "    {k: v for (k, v) in Counter(df_ratings.user).items() if v >= u_min}.keys())\n",
    "]\n",
    "\n",
    "# Merges list of books and ratings into a finished data set\n",
    "df = pd.merge(df_ratings, df_books, on=['isbn'])"
   ]
  },
  {
   "cell_type": "code",
   "execution_count": 5,
   "metadata": {},
   "outputs": [],
   "source": [
    "# Generates a reference list of all books in the finished dataset \n",
    "ref = df[['isbn','title']].drop_duplicates()\n",
    "# ISBN : Title conversion tools\n",
    "TI = dict(zip(ref.title, ref.isbn)) # Returns an ISBN when given a title TI[\"title\"]\n",
    "IT = {v: k for k, v in TI.items()} # Returns an title when given an ISBN IT[\"ISBN\"]"
   ]
  },
  {
   "cell_type": "code",
   "execution_count": 6,
   "metadata": {},
   "outputs": [
    {
     "data": {
      "text/plain": [
       "NearestNeighbors(algorithm='brute', metric='cosine')"
      ]
     },
     "execution_count": 6,
     "metadata": {},
     "output_type": "execute_result"
    }
   ],
   "source": [
    "# Makes pivot of finished data set\n",
    "pivot = df.pivot('isbn', 'user', 'rating').fillna(0)\n",
    "# KNN model\n",
    "KNN = NearestNeighbors(metric = 'cosine', algorithm = 'brute')\n",
    "# fits model to data\n",
    "KNN.fit(pivot.values)"
   ]
  },
  {
   "cell_type": "code",
   "execution_count": 9,
   "metadata": {
    "id": "f5ZUd-L1SQz7"
   },
   "outputs": [],
   "source": [
    "# function to return recommended books - this will be tested\n",
    "def get_recommends(book = \"\"):\n",
    "    distance, indices = KNN.kneighbors(\n",
    "        # distance from target\n",
    "        np.array(pivot.T[TI[str(book)]]).reshape(1,-1),\n",
    "        # number of recomendations\n",
    "        n_neighbors=4)\n",
    "    # Generates list of recomendations\n",
    "    recommends = [\n",
    "        (IT[pivot.index[indices.flatten()[i]]], distance.flatten()[i]) \n",
    "        for i in range(1, len(distance.flatten()))\n",
    "    ]\n",
    "    # formats the list of recomentations to spesifications\n",
    "    recommends.reverse()\n",
    "    # returns final formated results\n",
    "    return [book,recommends]"
   ]
  },
  {
   "cell_type": "markdown",
   "metadata": {
    "id": "eat9A2TKawHU"
   },
   "source": [
    "Use the cell below to test your function. The `test_book_recommendation()` function will inform you if you passed the challenge or need to keep trying."
   ]
  },
  {
   "cell_type": "code",
   "execution_count": 10,
   "metadata": {
    "id": "jd2SLCh8oxMh"
   },
   "outputs": [
    {
     "name": "stdout",
     "output_type": "stream",
     "text": [
      "You passed the challenge! 🎉🎉🎉🎉🎉\n"
     ]
    }
   ],
   "source": [
    "def test_book_recommendation():\n",
    "  test_pass = True\n",
    "  recommends = get_recommends(\"Where the Heart Is (Oprah's Book Club (Paperback))\")\n",
    "  if recommends[0] != \"Where the Heart Is (Oprah's Book Club (Paperback))\":\n",
    "    test_pass = False\n",
    "  recommended_books = [\"I'll Be Seeing You\", 'The Weight of Water', 'The Surgeon', 'I Know This Much Is True']\n",
    "  recommended_books_dist = [0.8, 0.77, 0.77, 0.77]\n",
    "  for i in range(2): \n",
    "    if recommends[1][i][0] not in recommended_books:\n",
    "      test_pass = False\n",
    "    if abs(recommends[1][i][1] - recommended_books_dist[i]) >= 0.05:\n",
    "      test_pass = False\n",
    "  if test_pass:\n",
    "    print(\"You passed the challenge! 🎉🎉🎉🎉🎉\")\n",
    "  else:\n",
    "    print(\"You haven't passed yet. Keep trying!\")\n",
    "\n",
    "test_book_recommendation()"
   ]
  },
  {
   "cell_type": "code",
   "execution_count": null,
   "metadata": {},
   "outputs": [],
   "source": []
  }
 ],
 "metadata": {
  "colab": {
   "collapsed_sections": [],
   "name": "fcc_book_recommendation_knn.ipynb",
   "provenance": []
  },
  "kernelspec": {
   "display_name": "Python 3.9 (tensorflow)",
   "language": "python",
   "name": "tensorflow"
  },
  "language_info": {
   "codemirror_mode": {
    "name": "ipython",
    "version": 3
   },
   "file_extension": ".py",
   "mimetype": "text/x-python",
   "name": "python",
   "nbconvert_exporter": "python",
   "pygments_lexer": "ipython3",
   "version": "3.9.6"
  },
  "toc-autonumbering": true,
  "toc-showcode": true,
  "toc-showmarkdowntxt": true
 },
 "nbformat": 4,
 "nbformat_minor": 4
}
