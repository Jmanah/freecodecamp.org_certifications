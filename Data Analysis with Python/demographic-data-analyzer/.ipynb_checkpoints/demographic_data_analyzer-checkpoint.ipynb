{
 "cells": [
  {
   "cell_type": "code",
   "execution_count": 1,
   "id": "99245daa",
   "metadata": {},
   "outputs": [],
   "source": [
    "import pandas as pd\n",
    "import numpy as np\n",
    "from collections import Counter"
   ]
  },
  {
   "cell_type": "code",
   "execution_count": 14,
   "id": "d9a79b9d",
   "metadata": {},
   "outputs": [],
   "source": [
    "def calculate_demographic_data(print_data=True):\n",
    "    df = pd.read_csv('adult.data.csv')\n",
    "    # How many of each race are represented in this dataset? This should be a Pandas series with race names as the index labels.\n",
    "    race_count = df.race.value_counts()\n",
    "    # What is the average age of men?\n",
    "    average_age_men = round(df.age[df.sex == 'Male'].mean(),1)\n",
    "    # What is the percentage of people who have a Bachelor's degree?\n",
    "    ed_count = Counter(df['education'])\n",
    "    percentage_bachelors = ed_count['Bachelors']/sum(ed_count.values())*100\n",
    "    # What percentage of people with advanced education (`Bachelors`, `Masters`, or `Doctorate`) make more than 50K?\n",
    "    # What percentage of people without advanced education make more than 50K?\n",
    "    mask = df.salary == '>50K'\n",
    "    ed_count_rich = Counter(df.education[mask])\n",
    "    advanced_education = ed_count['Bachelors']+ed_count['Masters']+ed_count['Doctorate']\n",
    "    no_advanced_education = sum(ed_count_rich.values()) - advanced_education\n",
    "    higher_education_rich = round(advanced_education/sum(ed_count_rich.values())*100,1)\n",
    "    lower_education_rich = round(no_advanced_education/sum(ed_count_rich.values())*100,1)\n",
    "    # What is the minimum number of hours a person works per week (hours-per-week feature)?\n",
    "    min_work_hours = df['hours-per-week'].min()\n",
    "    # What percentage of the people who work the minimum number of hours per week have a salary of >50K?\n",
    "    vcount = df[df['hours-per-week'] == df['hours-per-week'].min()].salary.value_counts()\n",
    "    rich_percentage = (vcount[1]/vcount.sum())*100\n",
    "    # What country has the highest percentage of people that earn >50K?\n",
    "    rich = df[df['salary'] == '>50K']\n",
    "    rich_by_country = rich['native-country'].value_counts()\n",
    "    total_by_country = df['native-country'].value_counts()\n",
    "    country_rank = rich_by_country/total_by_country\n",
    "    highest_earning_country = country_rank.idxmax()\n",
    "    highest_earning_country_percentage = round(country_rank.max()*100,1)\n",
    "    # Identify the most popular occupation for those who earn >50K in India.\n",
    "    rich_india = df[(df['native-country'] == 'India') & (df['salary'] == '>50K')]\n",
    "    top_IN_occupation = rich_india.occupation.value_counts().idxmax()\n",
    "    print(\"Number of each race:\\n\", race_count) \n",
    "    print(\"Average age of men:\", average_age_men)\n",
    "    print(f\"Percentage with Bachelors degrees: {percentage_bachelors}%\")\n",
    "    print(f\"Percentage with higher education that earn >50K: {higher_education_rich}%\")\n",
    "    print(f\"Percentage without higher education that earn >50K: {lower_education_rich}%\")\n",
    "    print(f\"Min work time: {min_work_hours} hours/week\")\n",
    "    print(f\"Percentage of rich among those who work fewest hours: {rich_percentage}%\")\n",
    "    print(\"Country with highest percentage of rich:\", highest_earning_country)\n",
    "    print(f\"Highest percentage of rich people in country: {highest_earning_country_percentage}%\")\n",
    "    print(\"Top occupations in India:\", top_IN_occupation)\n",
    "    return {\n",
    "        'race_count': race_count,\n",
    "        'average_age_men': average_age_men,\n",
    "        'percentage_bachelors': percentage_bachelors,\n",
    "        'higher_education_rich': higher_education_rich,\n",
    "        'lower_education_rich': lower_education_rich,\n",
    "        'min_work_hours': min_work_hours,\n",
    "        'rich_percentage': rich_percentage,\n",
    "        'highest_earning_country': highest_earning_country,\n",
    "        'highest_earning_country_percentage':\n",
    "        highest_earning_country_percentage,\n",
    "        'top_IN_occupation': top_IN_occupation\n",
    "    }"
   ]
  },
  {
   "cell_type": "code",
   "execution_count": 15,
   "id": "9703b79d",
   "metadata": {},
   "outputs": [
    {
     "name": "stdout",
     "output_type": "stream",
     "text": [
      "Number of each race:\n",
      " White                 27816\n",
      "Black                  3124\n",
      "Asian-Pac-Islander     1039\n",
      "Amer-Indian-Eskimo      311\n",
      "Other                   271\n",
      "Name: race, dtype: int64\n",
      "Average age of men: 39.4\n",
      "Percentage with Bachelors degrees: 16.44605509658794%\n",
      "Percentage with higher education that earn >50K: 95.5%\n",
      "Percentage without higher education that earn >50K: 4.5%\n",
      "Min work time: 1 hours/week\n",
      "Percentage of rich among those who work fewest hours: 10.0%\n",
      "Country with highest percentage of rich: Iran\n",
      "Highest percentage of rich people in country: 41.9%\n",
      "Top occupations in India: Prof-specialty\n"
     ]
    },
    {
     "data": {
      "text/plain": [
       "{'race_count': White                 27816\n",
       " Black                  3124\n",
       " Asian-Pac-Islander     1039\n",
       " Amer-Indian-Eskimo      311\n",
       " Other                   271\n",
       " Name: race, dtype: int64,\n",
       " 'average_age_men': 39.4,\n",
       " 'percentage_bachelors': 16.44605509658794,\n",
       " 'higher_education_rich': 95.5,\n",
       " 'lower_education_rich': 4.5,\n",
       " 'min_work_hours': 1,\n",
       " 'rich_percentage': 10.0,\n",
       " 'highest_earning_country': 'Iran',\n",
       " 'highest_earning_country_percentage': 41.9,\n",
       " 'top_IN_occupation': 'Prof-specialty'}"
      ]
     },
     "execution_count": 15,
     "metadata": {},
     "output_type": "execute_result"
    }
   ],
   "source": [
    "calculate_demographic_data()"
   ]
  },
  {
   "cell_type": "code",
   "execution_count": null,
   "id": "9620ee8f",
   "metadata": {},
   "outputs": [],
   "source": []
  }
 ],
 "metadata": {
  "kernelspec": {
   "display_name": "Python 3",
   "language": "python",
   "name": "python3"
  },
  "language_info": {
   "codemirror_mode": {
    "name": "ipython",
    "version": 3
   },
   "file_extension": ".py",
   "mimetype": "text/x-python",
   "name": "python",
   "nbconvert_exporter": "python",
   "pygments_lexer": "ipython3",
   "version": "3.8.8"
  }
 },
 "nbformat": 4,
 "nbformat_minor": 5
}
